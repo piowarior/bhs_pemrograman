{
 "cells": [
  {
   "cell_type": "markdown",
   "metadata": {},
   "source": []
  },
  {
   "cell_type": "markdown",
   "metadata": {},
   "source": [
    "## Function \n",
    "\n",
    "adalah blok kode yang dirancang untuk melakukan tugas tertentu. dapat memanggil function kapan saja di dalam program untuk menjalankan kode dalam function tersebut. Function membantu memecah program besar menjadi bagian-bagian yang lebih kecil dan lebih mudah dikelola. Function dapat menerima input (disebut parameter atau argumen) dan dapat mengembalikan nilai sebagai output."
   ]
  },
  {
   "cell_type": "code",
   "execution_count": 1,
   "metadata": {},
   "outputs": [
    {
     "name": "stdout",
     "output_type": "stream",
     "text": [
      "Halo, Andi!\n"
     ]
    }
   ],
   "source": [
    "def salam(nama):\n",
    "    return f\"Halo, {nama}!\"\n",
    "\n",
    "print(salam(\"Andi\"))\n"
   ]
  },
  {
   "cell_type": "markdown",
   "metadata": {},
   "source": [
    "## Recursive function \n",
    "\n",
    "adalah function yang memanggil dirinya sendiri untuk menyelesaikan tugas. Recursive function biasanya digunakan untuk masalah yang dapat dipecah menjadi submasalah yang lebih kecil dari jenis yang sama. Untuk memastikan recursive function berhenti, harus ada kondisi dasar (base case) yang menyelesaikan masalah tanpa melakukan panggilan recursive lebih lanjut."
   ]
  },
  {
   "cell_type": "code",
   "execution_count": 2,
   "metadata": {},
   "outputs": [
    {
     "name": "stdout",
     "output_type": "stream",
     "text": [
      "120\n"
     ]
    }
   ],
   "source": [
    "def faktorial(n):\n",
    "    if n == 1:  # Base case\n",
    "        return 1\n",
    "    else:\n",
    "        return n * faktorial(n - 1)  # Recursive call\n",
    "\n",
    "print(faktorial(5))\n"
   ]
  }
 ],
 "metadata": {
  "kernelspec": {
   "display_name": "Python 3",
   "language": "python",
   "name": "python3"
  },
  "language_info": {
   "codemirror_mode": {
    "name": "ipython",
    "version": 3
   },
   "file_extension": ".py",
   "mimetype": "text/x-python",
   "name": "python",
   "nbconvert_exporter": "python",
   "pygments_lexer": "ipython3",
   "version": "3.10.12"
  }
 },
 "nbformat": 4,
 "nbformat_minor": 2
}
