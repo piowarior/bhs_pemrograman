{
 "cells": [
  {
   "cell_type": "markdown",
   "metadata": {},
   "source": [
    "## Graphical User Interface (GUI)\n",
    "\n",
    "GUI adalah antarmuka pengguna yang memungkinkan interaksi dengan perangkat elektronik melalui elemen grafis seperti tombol, jendela, dan ikon, dibandingkan dengan antarmuka berbasis teks. GUI menyediakan cara yang lebih intuitif dan ramah pengguna untuk berinteraksi dengan perangkat lunak."
   ]
  },
  {
   "cell_type": "code",
   "execution_count": 6,
   "metadata": {},
   "outputs": [],
   "source": [
    "import tkinter as tk\n",
    "from tkinter import messagebox\n",
    "\n",
    "def tampilkan_pesan():\n",
    "    messagebox.showinfo(\"Salam\", \"Halo, Dunia!\")\n",
    "\n",
    "# Membuat jendela utama\n",
    "root = tk.Tk()\n",
    "root.title(\"Contoh GUI Tkinter\")\n",
    "root.geometry(\"300x200\")\n",
    "\n",
    "# Membuat tombol\n",
    "tombol = tk.Button(root, text=\"Klik Saya\", command=tampilkan_pesan)\n",
    "tombol.pack(pady=20)\n",
    "\n",
    "# Menjalankan aplikasi\n",
    "root.mainloop()\n",
    "\n"
   ]
  },
  {
   "cell_type": "markdown",
   "metadata": {},
   "source": [
    "![Deskripsi Gambar](ss.png)\n"
   ]
  }
 ],
 "metadata": {
  "kernelspec": {
   "display_name": "Python 3",
   "language": "python",
   "name": "python3"
  },
  "language_info": {
   "codemirror_mode": {
    "name": "ipython",
    "version": 3
   },
   "file_extension": ".py",
   "mimetype": "text/x-python",
   "name": "python",
   "nbconvert_exporter": "python",
   "pygments_lexer": "ipython3",
   "version": "3.10.12"
  }
 },
 "nbformat": 4,
 "nbformat_minor": 2
}
