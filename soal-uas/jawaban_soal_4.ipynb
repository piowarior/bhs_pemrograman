{
 "cells": [
  {
   "cell_type": "markdown",
   "metadata": {},
   "source": [
    "## komunikasiaplikasi dengan database \n",
    "\n",
    "Aplikasi dapat berkomunikasi dengan database menggunakan berbagai pustaka dan driver yang tersedia untuk berinteraksi dengan sistem manajemen basis data (DBMS) yang berbeda. Salah satu pustaka yang umum digunakan untuk berkomunikasi dengan database SQL adalah sqlite3 untuk SQLite, mysql-connector-python untuk MySQL, atau psycopg2 untuk PostgreSQL.\n",
    "\n",
    "\n",
    "## Proses Komunikasi:\n",
    "\n",
    "### 1. **Koneksi**\n",
    "\n",
    "#### Tujuan\n",
    "Tujuan dari langkah ini adalah untuk menghubungkan aplikasi Python dengan database. Koneksi ini dapat berupa pembuatan file database baru atau membuka file yang sudah ada. \n",
    "\n",
    "#### Cara Kerja\n",
    "- **Membuka atau Membuat File Database**: Ketika aplikasi Python mencoba terhubung ke database, pustaka database akan memeriksa apakah file database sudah ada. Jika tidak ada, pustaka akan membuat file baru.\n",
    "- **Parameter Koneksi**: Biasanya, parameter yang diperlukan untuk koneksi termasuk nama file database (untuk SQLite), serta informasi seperti alamat server, nama pengguna, dan kata sandi (untuk database server seperti MySQL atau PostgreSQL).\n",
    "\n",
    "### 2. **Cursor**\n",
    "\n",
    "#### Tujuan\n",
    "Cursor adalah objek yang digunakan untuk berinteraksi dengan database. Objek ini memungkinkan aplikasi untuk menjalankan perintah SQL dan mengambil hasil dari database.\n",
    "\n",
    "#### Cara Kerja\n",
    "- **Membuat Cursor**: Setelah koneksi berhasil, aplikasi Python membuat cursor menggunakan metode dari objek koneksi. Cursor ini kemudian digunakan untuk menjalankan perintah SQL.\n",
    "- **Fungsi Cursor**: Cursor menyediakan berbagai metode untuk mengeksekusi perintah SQL dan mengambil data dari database.\n",
    "\n",
    "### 3. **Eksekusi SQL**\n",
    "\n",
    "#### Tujuan\n",
    "Langkah ini melibatkan menjalankan perintah SQL yang diperlukan untuk berbagai operasi database, seperti membuat tabel, memasukkan data, atau mengambil data.\n",
    "\n",
    "#### Cara Kerja\n",
    "- **Perintah SQL**: Aplikasi Python mengirimkan perintah SQL melalui cursor untuk melakukan operasi yang diinginkan. Ini bisa termasuk perintah seperti `CREATE TABLE` untuk membuat tabel baru, `INSERT INTO` untuk menambah data, atau `SELECT` untuk mengambil data.\n",
    "- **Parameter**: Beberapa perintah SQL mungkin memerlukan parameter, yang sering dimasukkan menggunakan placeholder dalam perintah SQL.\n",
    "\n",
    "### 4. **Commit**\n",
    "\n",
    "#### Tujuan\n",
    "Commit digunakan untuk menyimpan semua perubahan yang telah dilakukan dalam transaksi ke database.\n",
    "\n",
    "#### Cara Kerja\n",
    "- **Menyimpan Perubahan**: Setelah menjalankan perintah SQL yang mengubah data, aplikasi harus memanggil metode commit untuk memastikan semua perubahan disimpan secara permanen di database.\n",
    "- **Transaksi**: Commit mengakhiri transaksi saat ini dan menyimpan semua perubahan yang dilakukan selama transaksi.\n",
    "\n",
    "### 5. **Tutup Koneksi**\n",
    "\n",
    "#### Tujuan\n",
    "Menutup koneksi ke database setelah semua operasi selesai.\n",
    "\n",
    "#### Cara Kerja\n",
    "- **Menutup Koneksi**: Setelah selesai dengan semua operasi database, aplikasi harus menutup koneksi untuk membebaskan sumber daya. Ini dilakukan dengan memanggil metode yang sesuai pada objek koneksi.\n",
    "- **Kebocoran Sumber Daya**: Menutup koneksi penting untuk mencegah kebocoran sumber daya dan memastikan bahwa tidak ada proses database yang tidak perlu tetap terbuka.\n",
    "\n",
    "### Ringkasan\n",
    "\n",
    "1. **Koneksi**: Menghubungkan aplikasi dengan database, bisa membuat atau membuka file database.\n",
    "2. **Cursor**: Objek untuk mengeksekusi perintah SQL dan mengambil hasil dari database.\n",
    "3. **Eksekusi SQL**: Menjalankan perintah SQL untuk operasi database seperti membuat tabel, menambah data, atau mengambil data.\n",
    "4. **Commit**: Menyimpan perubahan yang telah dilakukan dalam transaksi ke database.\n",
    "5. **Tutup Koneksi**: Menutup koneksi ke database setelah operasi selesai untuk membebaskan sumber daya.\n",
    "\n"
   ]
  },
  {
   "cell_type": "code",
   "execution_count": 3,
   "metadata": {},
   "outputs": [
    {
     "name": "stdout",
     "output_type": "stream",
     "text": [
      "(1, 'Andi', 25)\n",
      "(2, 'Budi', 30)\n",
      "(3, 'Andi', 25)\n",
      "(4, 'Budi', 30)\n"
     ]
    }
   ],
   "source": [
    "import sqlite3\n",
    "\n",
    "# Membuat atau menghubungkan ke database SQLite\n",
    "conn = sqlite3.connect('contoh.db')\n",
    "\n",
    "# Membuat cursor\n",
    "c = conn.cursor()\n",
    "\n",
    "# Membuat tabel\n",
    "c.execute('''CREATE TABLE IF NOT EXISTS pengguna\n",
    "             (id INTEGER PRIMARY KEY AUTOINCREMENT,\n",
    "              nama TEXT NOT NULL,\n",
    "              usia INTEGER NOT NULL)''')\n",
    "\n",
    "# Menambahkan data ke tabel\n",
    "c.execute(\"INSERT INTO pengguna (nama, usia) VALUES (?, ?)\", ('Andi', 25))\n",
    "c.execute(\"INSERT INTO pengguna (nama, usia) VALUES (?, ?)\", ('Budi', 30))\n",
    "\n",
    "# Menyimpan perubahan\n",
    "conn.commit()\n",
    "\n",
    "# Mengambil data dari tabel\n",
    "c.execute(\"SELECT * FROM pengguna\")\n",
    "rows = c.fetchall()\n",
    "\n",
    "# Menampilkan data\n",
    "for row in rows:\n",
    "    print(row)\n",
    "\n",
    "# Menutup koneksi\n",
    "conn.close()\n"
   ]
  },
  {
   "cell_type": "code",
   "execution_count": null,
   "metadata": {},
   "outputs": [],
   "source": []
  }
 ],
 "metadata": {
  "kernelspec": {
   "display_name": "Python 3",
   "language": "python",
   "name": "python3"
  },
  "language_info": {
   "codemirror_mode": {
    "name": "ipython",
    "version": 3
   },
   "file_extension": ".py",
   "mimetype": "text/x-python",
   "name": "python",
   "nbconvert_exporter": "python",
   "pygments_lexer": "ipython3",
   "version": "3.10.12"
  }
 },
 "nbformat": 4,
 "nbformat_minor": 2
}
