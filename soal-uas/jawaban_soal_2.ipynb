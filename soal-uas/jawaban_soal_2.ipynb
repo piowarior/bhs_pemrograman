{
 "cells": [
  {
   "cell_type": "markdown",
   "metadata": {},
   "source": [
    "\n",
    "## Exception Handling di Python\n",
    "\n",
    "Exception handling adalah mekanisme dalam pemrograman untuk menangani error atau pengecualian yang terjadi selama eksekusi program. Ini memungkinkan penulis kode untuk mengatasi situasi-situasi yang tidak terduga tanpa menghentikan eksekusi program secara tiba-tiba. Exception handling dilakukan menggunakan blok kode try, except, else, dan finally.\n",
    "\n",
    "**try**: Blok kode yang mungkin menyebabkan pengecualian diletakkan di dalam try.\n",
    "**except**: Blok kode yang akan dijalankan jika pengecualian terjadi dalam blok try.\n",
    "**else**: Blok kode yang akan dijalankan jika tidak ada pengecualian yang terjadi dalam blok try.\n",
    "**finally**: Blok kode yang akan selalu dijalankan, terlepas dari apakah pengecualian terjadi atau tidak."
   ]
  },
  {
   "cell_type": "code",
   "execution_count": 1,
   "metadata": {},
   "outputs": [
    {
     "name": "stdout",
     "output_type": "stream",
     "text": [
      "Proses konversi selesai.\n",
      "Nilai integer: 123\n",
      "Proses konversi selesai.\n",
      "Error: Input tidak dapat dikonversi ke integer.\n"
     ]
    }
   ],
   "source": [
    "def konversi_ke_int(nilai_str):\n",
    "    try:\n",
    "        nilai_int = int(nilai_str)\n",
    "    except ValueError:\n",
    "        return \"Error: Input tidak dapat dikonversi ke integer.\"\n",
    "    else:\n",
    "        return f\"Nilai integer: {nilai_int}\"\n",
    "    finally:\n",
    "        print(\"Proses konversi selesai.\")\n",
    "\n",
    "# Contoh penggunaan\n",
    "print(konversi_ke_int(\"123\"))  # Input valid\n",
    "print(konversi_ke_int(\"abc\"))  # Input tidak valid\n"
   ]
  }
 ],
 "metadata": {
  "kernelspec": {
   "display_name": "Python 3",
   "language": "python",
   "name": "python3"
  },
  "language_info": {
   "codemirror_mode": {
    "name": "ipython",
    "version": 3
   },
   "file_extension": ".py",
   "mimetype": "text/x-python",
   "name": "python",
   "nbconvert_exporter": "python",
   "pygments_lexer": "ipython3",
   "version": "3.10.12"
  }
 },
 "nbformat": 4,
 "nbformat_minor": 2
}
